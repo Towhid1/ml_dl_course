{
 "cells": [
  {
   "attachments": {},
   "cell_type": "markdown",
   "metadata": {},
   "source": [
    "\n",
    "# Topics\n",
    "\n",
    "- Python Classes and Objects\n",
    "- Destructors\n",
    "- Abstraction\n",
    "- Inheritance\n",
    "- Encapsulation\n",
    "- Polymorphism\n",
    "\n",
    "**Abstraction, encapsulation, polymorphism, and inheritance** are the four main theoretical principles of object-oriented programming."
   ]
  },
  {
   "attachments": {},
   "cell_type": "markdown",
   "metadata": {},
   "source": [
    "#  Python Classes and Objects\n",
    "\n",
    "- Python is an object oriented programming language. Python Classes and Objects are the core building blocks of Python programming language.\n",
    "\n",
    "- Almost everything in Python is an object, with its properties and methods.\n",
    "- A Class is like an object constructor, or a \"blueprint\" for creating objects.\n",
    "\n",
    "\n",
    " <img src=\"img/python-class.png\">\n",
    " \n",
    " \n",
    "### Simple Python Class Declaration\n",
    "\n",
    "```python\n",
    "class ClassName:  \n",
    "    # list of python class variables  \n",
    "    # python class constructor  \n",
    "    # python class method definitions\n",
    "```"
   ]
  },
  {
   "cell_type": "code",
   "execution_count": 2,
   "metadata": {},
   "outputs": [],
   "source": [
    "#definition of the class starts here\n",
    "class Person:\n",
    "    #initializing the variables\n",
    "    name = \"\"\n",
    "    age = 0\n",
    "    address = \"Dhaka\"\n",
    "\n",
    "    #defining constructor\n",
    "    def __init__(self, person_name, person_age, address):\n",
    "        self.name = person_name\n",
    "        self.age = person_age\n",
    "        self.address = address\n",
    "    #defining class methods\n",
    "    def show_name(self):\n",
    "        print(self.name)\n",
    "\n",
    "    def show_age(self):\n",
    "        print(self.age)\n",
    "\n",
    "    #end of the class definition\n"
   ]
  },
  {
   "cell_type": "code",
   "execution_count": 3,
   "metadata": {},
   "outputs": [],
   "source": [
    "# Create an object of the class\n",
    "person1 = Person(\"John\", 23, \"dhaka\")"
   ]
  },
  {
   "cell_type": "code",
   "execution_count": 4,
   "metadata": {},
   "outputs": [
    {
     "name": "stdout",
     "output_type": "stream",
     "text": [
      "John\n"
     ]
    }
   ],
   "source": [
    "# dir(person1)\n",
    "person1.show_name()"
   ]
  },
  {
   "cell_type": "code",
   "execution_count": 5,
   "metadata": {},
   "outputs": [
    {
     "name": "stdout",
     "output_type": "stream",
     "text": [
      "23\n"
     ]
    }
   ],
   "source": [
    "person1.show_age()"
   ]
  },
  {
   "cell_type": "code",
   "execution_count": 6,
   "metadata": {},
   "outputs": [
    {
     "name": "stdout",
     "output_type": "stream",
     "text": [
      "Towhid\n"
     ]
    }
   ],
   "source": [
    "#Create another object of the same class\n",
    "person2 = Person(\"Towhid\", 29, \"Feni\")\n",
    "\n",
    "#call member methods of the objects\n",
    "person2.show_name()"
   ]
  },
  {
   "attachments": {},
   "cell_type": "markdown",
   "metadata": {},
   "source": [
    "# Task \n",
    "Write a class with constructor and one method. class name = Task , method name : display\n",
    "\n"
   ]
  },
  {
   "cell_type": "code",
   "execution_count": null,
   "metadata": {},
   "outputs": [],
   "source": []
  },
  {
   "attachments": {},
   "cell_type": "markdown",
   "metadata": {},
   "source": [
    "- ### Python Class Constructor\n",
    "\n",
    "**Python class constructor is the first piece of code to be executed when you create a new object of a class.** Primarily, the constructor can be used to put values in the member variables. You may also print messages in the constructor to be confirmed whether the object has been created. We shall learn a greater role of constructor once we get to know about python inheritance. \n",
    "\n",
    "The constructor method starts with def ```__init__```. Afterward, the first parameter must be ‘self’, as it passes a reference to the instance of the class itself. You can also add additional parameters like the way it is shown in the example. ‘person_name’ and ‘person_age’ are two parameters to sent when a new object is to be created.\n",
    "\n",
    "\n",
    "```python\n",
    "#defining constructor  \n",
    "def __init__(self, person_name, person_age):  \n",
    "    self.name = person_name  \n",
    "    self.age = person_age\n",
    "```\n",
    "- ### Python Class Methods\n",
    "\n",
    "Methods are declared in the following way:\n",
    "\n",
    "```python\n",
    "def method_name(self, parameter 1, parameter 2, …….)\n",
    "    statements……..\n",
    "    return value (if required)\n",
    "```\n",
    "\n",
    "- ### Python Class Object\n",
    "\n",
    "```python\n",
    "# Create an object of the class  \n",
    "person1 = Person(\"Richard\", 23)  \n",
    "#Create another object of the same class  \n",
    "person2 = Person(\"Anne\", 30)  \n",
    "\n",
    "#call member methods of the objects  \n",
    "person1.show_age()\n",
    "person2.show_name()\n",
    "```"
   ]
  },
  {
   "attachments": {},
   "cell_type": "markdown",
   "metadata": {},
   "source": [
    "# Destructors\n",
    "\n",
    "Destructors are called when an object gets destroyed. In Python, destructors are not needed as much as in **C++** because Python has a garbage collector that handles memory management automatically. "
   ]
  },
  {
   "cell_type": "code",
   "execution_count": 7,
   "metadata": {},
   "outputs": [
    {
     "name": "stdout",
     "output_type": "stream",
     "text": [
      "Richard\n"
     ]
    }
   ],
   "source": [
    "person1 = Person(\"Richard\", 23, None)\n",
    "\n",
    "#call member methods of the objects\n",
    "person1.show_name()\n",
    "\n",
    "del person1"
   ]
  },
  {
   "cell_type": "code",
   "execution_count": 8,
   "metadata": {},
   "outputs": [
    {
     "ename": "NameError",
     "evalue": "name 'person1' is not defined",
     "output_type": "error",
     "traceback": [
      "\u001b[1;31m---------------------------------------------------------------------------\u001b[0m",
      "\u001b[1;31mNameError\u001b[0m                                 Traceback (most recent call last)",
      "\u001b[1;32me:\\ML&DL\\Class_n_OOP\\OOP python.ipynb Cell 13\u001b[0m line \u001b[0;36m2\n\u001b[0;32m      <a href='vscode-notebook-cell:/e%3A/ML%26DL/Class_n_OOP/OOP%20python.ipynb#X15sZmlsZQ%3D%3D?line=0'>1</a>\u001b[0m \u001b[39m#call member methods of the objects  \u001b[39;00m\n\u001b[1;32m----> <a href='vscode-notebook-cell:/e%3A/ML%26DL/Class_n_OOP/OOP%20python.ipynb#X15sZmlsZQ%3D%3D?line=1'>2</a>\u001b[0m person1\u001b[39m.\u001b[39mshow_name()\n",
      "\u001b[1;31mNameError\u001b[0m: name 'person1' is not defined"
     ]
    }
   ],
   "source": [
    "#call member methods of the objects\n",
    "person1.show_name()"
   ]
  },
  {
   "attachments": {},
   "cell_type": "markdown",
   "metadata": {},
   "source": [
    "## Abstraction\n",
    "\n",
    "Its main goal is to handle complexity by hiding unnecessary details from the user. That enables the user to implement more complex logic on top of the provided abstraction without understanding or even thinking about all the hidden complexity.\n",
    "\n",
    "That’s a very generic concept that’s not limited to object-oriented programming. You can find it everywhere in the real world.\n",
    "\n",
    "An **abstract base class** is a class that is used as a blueprint for other classes. Abstract base classes are a powerful feature in Python since they help you define a blueprint for other classes that may have something in common."
   ]
  },
  {
   "cell_type": "code",
   "execution_count": 9,
   "metadata": {},
   "outputs": [],
   "source": [
    "from abc import ABCMeta, abstractmethod\n",
    "# abc — Abstract Base Classes\n",
    "\n",
    "class Fruit(metaclass=ABCMeta):\n",
    "    # @abstractmethod decorator\n",
    "    @abstractmethod\n",
    "    def get_shape(self):\n",
    "    # blueprint of the method\n",
    "        pass\n",
    "\n",
    "    @abstractmethod\n",
    "    def get_color(self):\n",
    "        pass\n",
    "\n",
    "    @abstractmethod\n",
    "    def get_taste(self):\n",
    "        pass\n",
    "\n",
    "\n",
    "class Mango(Fruit):\n",
    "    def __init__(self, taste=\"Sweet\", color=\"Green\"):\n",
    "        self.shape = \"Oval\"\n",
    "        self.taste = taste\n",
    "        self.color = color\n",
    "\n",
    "    def get_shape(self):\n",
    "#         details calculation here\n",
    "        return self.shape\n",
    "\n",
    "    def get_color(self):\n",
    "        return self.color\n",
    "\n",
    "    def get_taste(self):\n",
    "        return self.taste\n"
   ]
  },
  {
   "cell_type": "code",
   "execution_count": 10,
   "metadata": {},
   "outputs": [
    {
     "data": {
      "text/plain": [
       "'Oval'"
      ]
     },
     "execution_count": 10,
     "metadata": {},
     "output_type": "execute_result"
    }
   ],
   "source": [
    "normal_mango = Mango()\n",
    "normal_mango.get_shape()"
   ]
  },
  {
   "cell_type": "code",
   "execution_count": 11,
   "metadata": {},
   "outputs": [
    {
     "data": {
      "text/plain": [
       "'Sweet'"
      ]
     },
     "execution_count": 11,
     "metadata": {},
     "output_type": "execute_result"
    }
   ],
   "source": [
    "normal_mango.get_taste()"
   ]
  },
  {
   "cell_type": "code",
   "execution_count": 12,
   "metadata": {},
   "outputs": [
    {
     "data": {
      "text/plain": [
       "'Sour'"
      ]
     },
     "execution_count": 12,
     "metadata": {},
     "output_type": "execute_result"
    }
   ],
   "source": [
    "# with arg value\n",
    "wild_mango = Mango(\"Sour\")\n",
    "wild_mango.get_taste()"
   ]
  },
  {
   "cell_type": "code",
   "execution_count": 13,
   "metadata": {},
   "outputs": [
    {
     "ename": "TypeError",
     "evalue": "Can't instantiate abstract class Orange with abstract methods get_taste",
     "output_type": "error",
     "traceback": [
      "\u001b[1;31m---------------------------------------------------------------------------\u001b[0m",
      "\u001b[1;31mTypeError\u001b[0m                                 Traceback (most recent call last)",
      "\u001b[1;32me:\\ML&DL\\Class_n_OOP\\OOP python.ipynb Cell 19\u001b[0m line \u001b[0;36m1\n\u001b[0;32m      <a href='vscode-notebook-cell:/e%3A/ML%26DL/Class_n_OOP/OOP%20python.ipynb#X24sZmlsZQ%3D%3D?line=8'>9</a>\u001b[0m     \u001b[39mdef\u001b[39;00m \u001b[39mget_color\u001b[39m(\u001b[39mself\u001b[39m):\n\u001b[0;32m     <a href='vscode-notebook-cell:/e%3A/ML%26DL/Class_n_OOP/OOP%20python.ipynb#X24sZmlsZQ%3D%3D?line=9'>10</a>\u001b[0m         \u001b[39mreturn\u001b[39;00m \u001b[39mself\u001b[39m\u001b[39m.\u001b[39mcolor\n\u001b[1;32m---> <a href='vscode-notebook-cell:/e%3A/ML%26DL/Class_n_OOP/OOP%20python.ipynb#X24sZmlsZQ%3D%3D?line=11'>12</a>\u001b[0m my_orange \u001b[39m=\u001b[39m Orange()\n",
      "\u001b[1;31mTypeError\u001b[0m: Can't instantiate abstract class Orange with abstract methods get_taste"
     ]
    }
   ],
   "source": [
    "class Orange(Fruit):\n",
    "    def __init__(self):\n",
    "        self.color = \"Orange\"\n",
    "        self.shape = \"Spherical\"\n",
    "\n",
    "    def get_shape(self):\n",
    "        return self.shape\n",
    "\n",
    "    def get_color(self):\n",
    "        return self.color\n",
    "\n",
    "my_orange = Orange()"
   ]
  },
  {
   "cell_type": "code",
   "execution_count": 14,
   "metadata": {},
   "outputs": [
    {
     "data": {
      "text/plain": [
       "'Orange'"
      ]
     },
     "execution_count": 14,
     "metadata": {},
     "output_type": "execute_result"
    }
   ],
   "source": [
    "class Orange(Fruit):\n",
    "    def __init__(self):\n",
    "        self.taste = \"Sweet\"\n",
    "        self.color = \"Orange\"\n",
    "        self.shape = \"Spherical\"\n",
    "\n",
    "    def get_shape(self):\n",
    "        return self.shape\n",
    "\n",
    "    def get_color(self):\n",
    "        return self.color\n",
    "\n",
    "    def get_taste(self):\n",
    "        return self.taste\n",
    "\n",
    "\n",
    "my_orange = Orange()\n",
    "# get color\n",
    "my_orange.get_color()"
   ]
  },
  {
   "cell_type": "code",
   "execution_count": 15,
   "metadata": {},
   "outputs": [
    {
     "data": {
      "text/plain": [
       "'Spherical'"
      ]
     },
     "execution_count": 15,
     "metadata": {},
     "output_type": "execute_result"
    }
   ],
   "source": [
    "my_orange.get_shape()"
   ]
  },
  {
   "attachments": {},
   "cell_type": "markdown",
   "metadata": {},
   "source": [
    "## Encapsulation\n",
    "\n",
    "Encapsulation is a way to restrict the direct access to some components of an object, so users cannot access state values for all of the variables of a particular object.\n",
    "\n"
   ]
  },
  {
   "cell_type": "code",
   "execution_count": 16,
   "metadata": {},
   "outputs": [],
   "source": [
    "class Encapsulation:\n",
    "    # constructor\n",
    "    def __init__(self, name, project):\n",
    "        self.name = name\n",
    "        self.project = project\n",
    "        self.secret = \"password\"\n",
    "\n",
    "\n",
    "# creating object of the class\n",
    "edp = Encapsulation(\"TeamPhoenix\", 1)"
   ]
  },
  {
   "cell_type": "code",
   "execution_count": 17,
   "metadata": {},
   "outputs": [
    {
     "name": "stdout",
     "output_type": "stream",
     "text": [
      "Before Name:  password\n",
      "After Name:  new_secret\n"
     ]
    }
   ],
   "source": [
    "# accessing public data member\n",
    "print(\"Before Name: \", edp.secret)\n",
    "\n",
    "edp.secret = 'new_secret'\n",
    "print(\"After Name: \", edp.secret)"
   ]
  },
  {
   "cell_type": "code",
   "execution_count": 18,
   "metadata": {},
   "outputs": [],
   "source": [
    "# program to illustrate private access\n",
    "class Encapsulation:\n",
    "    def __init__(self, name, project):\n",
    "        self.name = name\n",
    "        self.project = project\n",
    "        self.__secret = \"secret key\"\n",
    "\n",
    "# creating object of the class\n",
    "edp = Encapsulation(\"TeamPhoenix\", 2)"
   ]
  },
  {
   "cell_type": "code",
   "execution_count": 20,
   "metadata": {},
   "outputs": [
    {
     "ename": "AttributeError",
     "evalue": "'Encapsulation' object has no attribute 'secret'",
     "output_type": "error",
     "traceback": [
      "\u001b[1;31m---------------------------------------------------------------------------\u001b[0m",
      "\u001b[1;31mAttributeError\u001b[0m                            Traceback (most recent call last)",
      "\u001b[1;32me:\\ML&DL\\Class_n_OOP\\OOP python.ipynb Cell 26\u001b[0m line \u001b[0;36m2\n\u001b[0;32m      <a href='vscode-notebook-cell:/e%3A/ML%26DL/Class_n_OOP/OOP%20python.ipynb#X34sZmlsZQ%3D%3D?line=0'>1</a>\u001b[0m \u001b[39m# direct access of private member\u001b[39;00m\n\u001b[1;32m----> <a href='vscode-notebook-cell:/e%3A/ML%26DL/Class_n_OOP/OOP%20python.ipynb#X34sZmlsZQ%3D%3D?line=1'>2</a>\u001b[0m \u001b[39mprint\u001b[39m(\u001b[39m\"\u001b[39m\u001b[39mName:\u001b[39m\u001b[39m\"\u001b[39m, edp\u001b[39m.\u001b[39;49msecret)\n",
      "\u001b[1;31mAttributeError\u001b[0m: 'Encapsulation' object has no attribute 'secret'"
     ]
    }
   ],
   "source": [
    "# direct access of private member\n",
    "print(\"Name:\", edp.__secret)"
   ]
  },
  {
   "attachments": {},
   "cell_type": "markdown",
   "metadata": {},
   "source": [
    "## Polymorphism\n",
    "\n",
    "Polymorphism is the principle that one kind of thing can take a variety of forms. In the context of programming, this means that a single entity in a programming language can behave in multiple ways depending on the context."
   ]
  },
  {
   "cell_type": "code",
   "execution_count": 21,
   "metadata": {},
   "outputs": [
    {
     "name": "stdout",
     "output_type": "stream",
     "text": [
      "25\n"
     ]
    }
   ],
   "source": [
    "# Operator Polymorphism\n",
    "int1 = 10\n",
    "int2 = 15\n",
    "\n",
    "print(int1 + int2)\n",
    "# 25"
   ]
  },
  {
   "cell_type": "code",
   "execution_count": 22,
   "metadata": {},
   "outputs": [
    {
     "name": "stdout",
     "output_type": "stream",
     "text": [
      "polymorphism\n"
     ]
    }
   ],
   "source": [
    "str1 = \"poly\"\n",
    "str2 = \"morphism\"\n",
    "\n",
    "print(str1 + str2)\n",
    "# polymorphism"
   ]
  },
  {
   "cell_type": "code",
   "execution_count": 23,
   "metadata": {},
   "outputs": [],
   "source": [
    "class Lion:\n",
    "    def diet(self):\n",
    "        print('carnivore/meat-eater')\n",
    "\n",
    "class Giraffe:\n",
    "    def diet(self):\n",
    "        print('herbivore/plant-eater')\n",
    "\n",
    "obj_lion = Lion()\n",
    "obj_giraffe = Giraffe()\n"
   ]
  },
  {
   "cell_type": "code",
   "execution_count": 24,
   "metadata": {},
   "outputs": [
    {
     "name": "stdout",
     "output_type": "stream",
     "text": [
      "carnivore/meat-eater\n",
      "herbivore/plant-eater\n"
     ]
    }
   ],
   "source": [
    "obj_lion.diet()\n",
    "# returns carnivore\n",
    "\n",
    "obj_giraffe.diet()\n",
    "# returns herbivore"
   ]
  },
  {
   "attachments": {},
   "cell_type": "markdown",
   "metadata": {},
   "source": [
    "## Inheritance\n",
    "\n",
    "When a class derives from another class. \n",
    "\n",
    "Inheritance is a way by which a subclass can inherit the attributes and methods of another class. The new class is called derived (or child) class and the one from which it inherits is called the base (or parent) class.\n"
   ]
  },
  {
   "cell_type": "code",
   "execution_count": 25,
   "metadata": {},
   "outputs": [],
   "source": [
    "# A Python program to demonstrate inheritance\n",
    "\n",
    "# Parent class\n",
    "class Person:\n",
    "  # Constructor\n",
    "  def __init__(self, name, id):\n",
    "    self.name = name\n",
    "    self.id = id\n",
    "\n",
    "  # To check if this person is an employee\n",
    "  def display(self):\n",
    "    print('parent class function: ', self.name, self.id)\n",
    "\n",
    "  def is_employee(self):\n",
    "    return False\n"
   ]
  },
  {
   "cell_type": "code",
   "execution_count": 26,
   "metadata": {},
   "outputs": [],
   "source": [
    "# child class\n",
    "class Emp(Person):\n",
    "  def is_employee(self):\n",
    "    return True\n"
   ]
  },
  {
   "cell_type": "code",
   "execution_count": 27,
   "metadata": {},
   "outputs": [
    {
     "name": "stdout",
     "output_type": "stream",
     "text": [
      "parent class function:  Towhid id123\n"
     ]
    }
   ],
   "source": [
    "Emp_details = Emp(\"Towhid\", 'id123')\n",
    "\n",
    "# calling parent class function\n",
    "Emp_details.display()"
   ]
  },
  {
   "cell_type": "code",
   "execution_count": 28,
   "metadata": {},
   "outputs": [
    {
     "data": {
      "text/plain": [
       "True"
      ]
     },
     "execution_count": 28,
     "metadata": {},
     "output_type": "execute_result"
    }
   ],
   "source": [
    "# Calling child class function\n",
    "Emp_details.is_employee()"
   ]
  },
  {
   "cell_type": "code",
   "execution_count": 29,
   "metadata": {},
   "outputs": [
    {
     "data": {
      "text/plain": [
       "False"
      ]
     },
     "execution_count": 29,
     "metadata": {},
     "output_type": "execute_result"
    }
   ],
   "source": [
    "person1 = Person(\"Mayank\", 'id1234')\n",
    "\n",
    "person1.is_employee()"
   ]
  },
  {
   "attachments": {},
   "cell_type": "markdown",
   "metadata": {},
   "source": [
    "# Assignment 3\n",
    "\n",
    "Write a Python class to sum of all input integers. (Class should have constructor and one method inside class to do sum)\n"
   ]
  },
  {
   "attachments": {},
   "cell_type": "markdown",
   "metadata": {},
   "source": [
    "```python\n",
    "class AssignmentThree:\n",
    "    \n",
    "    def __init__(self, *integers):\n",
    "        self.integers = integers\n",
    "\n",
    "\n",
    "    def sum(self):\n",
    "        your code\n",
    "```"
   ]
  },
  {
   "attachments": {},
   "cell_type": "markdown",
   "metadata": {},
   "source": [
    "# Assignment 4\n",
    "\n",
    "Write a Python abstract base class(only blueprint) For Employee class with two abstract methods : \n",
    "- get_position\n",
    "- get_salary \n",
    "\n",
    "then write a SalesEmployee class using that abstract class. "
   ]
  }
 ],
 "metadata": {
  "kernelspec": {
   "display_name": "Python 3 (ipykernel)",
   "language": "python",
   "name": "python3"
  },
  "language_info": {
   "codemirror_mode": {
    "name": "ipython",
    "version": 3
   },
   "file_extension": ".py",
   "mimetype": "text/x-python",
   "name": "python",
   "nbconvert_exporter": "python",
   "pygments_lexer": "ipython3",
   "version": "3.8.6"
  }
 },
 "nbformat": 4,
 "nbformat_minor": 4
}
