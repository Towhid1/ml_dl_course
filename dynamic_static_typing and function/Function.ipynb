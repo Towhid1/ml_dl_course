{
 "cells": [
  {
   "attachments": {},
   "cell_type": "markdown",
   "metadata": {},
   "source": [
    "## Dynamic & Static Typing\n",
    "\n",
    "Python is a dynamically typed language, which means that variable types are determined at runtime. However, Python 3.5 and later versions also introduced optional static type hinting using the `typing` module, allowing you to specify types for variables and function arguments. This tutorial will cover both dynamic typing and static typing in Python.\n",
    "\n",
    "## Dynamic Typing in Python\n",
    "\n",
    "In dynamically typed languages like Python, you don't need to explicitly declare the data type of a variable. The type of a variable is determined at runtime based on the value assigned to it. This flexibility can make Python code more concise and easier to read.\n",
    "\n",
    "### Example of Dynamic Typing"
   ]
  },
  {
   "cell_type": "code",
   "execution_count": 1,
   "metadata": {},
   "outputs": [
    {
     "name": "stdout",
     "output_type": "stream",
     "text": [
      "5 <class 'int'>\n",
      "Hello <class 'str'>\n",
      "[1, 2, 3] <class 'list'>\n"
     ]
    }
   ],
   "source": [
    "x = 5  # x is an integer\n",
    "print(x, type(x))\n",
    "x = \"Hello\"  # x is now a string\n",
    "print(x, type(x))\n",
    "x = [1, 2, 3]  # x is now a list\n",
    "print(x, type(x))"
   ]
  },
  {
   "cell_type": "markdown",
   "metadata": {},
   "source": [
    "In this example, the variable x can hold values of different types at different times.\n",
    "\n",
    "## Static Typing with Type Hints\n",
    "\n",
    "While Python is dynamically typed, it is possible to add type hints to your code using the typing module, introduced in Python 3.5. Type hints are not enforced by the Python interpreter but provide a way to document and communicate the expected types of variables and function arguments.\n",
    "\n",
    "## Syntax of Type Hints\n",
    "To add type hints to your code, you use the following syntax:\n",
    "\n",
    "```sh\n",
    "variable_name: type = initial_value\n",
    "\n",
    "```\n",
    "\n",
    "### Here's an example:"
   ]
  },
  {
   "cell_type": "code",
   "execution_count": 3,
   "metadata": {},
   "outputs": [
    {
     "name": "stdout",
     "output_type": "stream",
     "text": [
      "25 <class 'int'>\n",
      "Alice <class 'str'>\n"
     ]
    }
   ],
   "source": [
    "# static\n",
    "age: int = 25\n",
    "name: str = \"Alice\"\n",
    "print(age, type(age))\n",
    "print(name, type(name))"
   ]
  },
  {
   "cell_type": "markdown",
   "metadata": {},
   "source": [
    "## Type Checking with `mypy`\n",
    "\n",
    "To check your code for type hint consistency, you can use a static type checker like `mypy`. \n",
    "\n",
    "To get started, install mypy using pip:"
   ]
  },
  {
   "cell_type": "code",
   "execution_count": 4,
   "metadata": {},
   "outputs": [
    {
     "name": "stdout",
     "output_type": "stream",
     "text": [
      "Requirement already satisfied: mypy in d:\\ml&dl - course\\mldl\\lib\\site-packages (1.5.1)\n",
      "Requirement already satisfied: typing-extensions>=4.1.0 in d:\\ml&dl - course\\mldl\\lib\\site-packages (from mypy) (4.7.1)\n",
      "Requirement already satisfied: mypy-extensions>=1.0.0 in d:\\ml&dl - course\\mldl\\lib\\site-packages (from mypy) (1.0.0)\n",
      "Requirement already satisfied: tomli>=1.1.0 in d:\\ml&dl - course\\mldl\\lib\\site-packages (from mypy) (2.0.1)\n",
      "Note: you may need to restart the kernel to use updated packages.\n"
     ]
    }
   ],
   "source": [
    "pip install mypy"
   ]
  },
  {
   "cell_type": "markdown",
   "metadata": {},
   "source": [
    "Once mypy is installed, you can run it on your Python files:\n",
    "\n",
    "```sh\n",
    "mypy your_file.py\n",
    "```"
   ]
  },
  {
   "cell_type": "markdown",
   "metadata": {},
   "source": []
  },
  {
   "cell_type": "markdown",
   "metadata": {},
   "source": []
  },
  {
   "attachments": {},
   "cell_type": "markdown",
   "metadata": {},
   "source": [
    "# Functions\n",
    "\n",
    "#### A function is a block of organized, reusable code that is used to perform a single, related action. Functions provides better modularity for your application and a high degree of code reusing.\n",
    "\n"
   ]
  },
  {
   "cell_type": "code",
   "execution_count": 4,
   "metadata": {},
   "outputs": [
    {
     "name": "stdout",
     "output_type": "stream",
     "text": [
      "it is a built-in function\n"
     ]
    }
   ],
   "source": [
    "print('it is a built-in function')"
   ]
  },
  {
   "cell_type": "code",
   "execution_count": 5,
   "metadata": {},
   "outputs": [
    {
     "data": {
      "text/plain": [
       "4"
      ]
     },
     "execution_count": 5,
     "metadata": {},
     "output_type": "execute_result"
    }
   ],
   "source": [
    "int(4.0)"
   ]
  },
  {
   "attachments": {},
   "cell_type": "markdown",
   "metadata": {},
   "source": [
    "#### Python gives you many built-in functions like` print()` etc. but you can also create your own functions. These functions are called user-defined functions.\n",
    "In Python a function is defined using the `def` keyword"
   ]
  },
  {
   "cell_type": "code",
   "execution_count": 1,
   "metadata": {},
   "outputs": [],
   "source": [
    "# smile function\n",
    "def smile():\n",
    "    print(' :) ')\n",
    "    print(\"Hello from a function\")"
   ]
  },
  {
   "cell_type": "code",
   "execution_count": 2,
   "metadata": {},
   "outputs": [
    {
     "name": "stdout",
     "output_type": "stream",
     "text": [
      " :) \n",
      "Hello from a function\n"
     ]
    }
   ],
   "source": [
    "smile()"
   ]
  },
  {
   "cell_type": "markdown",
   "metadata": {},
   "source": [
    "## Function Parameters\n",
    "Function parameters allow you to pass data into a function.\n"
   ]
  },
  {
   "cell_type": "code",
   "execution_count": 3,
   "metadata": {},
   "outputs": [],
   "source": [
    "# function with arg or param\n",
    "def say_hello(name):\n",
    "    print(f\"Hello {name}\")"
   ]
  },
  {
   "cell_type": "code",
   "execution_count": 6,
   "metadata": {},
   "outputs": [
    {
     "name": "stdout",
     "output_type": "stream",
     "text": [
      "Hello Elon\n"
     ]
    }
   ],
   "source": [
    "say_hello(\"Elon\")"
   ]
  },
  {
   "cell_type": "code",
   "execution_count": 7,
   "metadata": {},
   "outputs": [],
   "source": [
    "# function with multiple params\n",
    "def user(name, order_num):\n",
    "    print(f\"name: {name}\")\n",
    "    print(f\"order num: {order_num}\")"
   ]
  },
  {
   "cell_type": "code",
   "execution_count": 10,
   "metadata": {},
   "outputs": [
    {
     "name": "stdout",
     "output_type": "stream",
     "text": [
      "name: 27\n",
      "order num: Elon\n"
     ]
    }
   ],
   "source": [
    "user('Elon', 27)"
   ]
  },
  {
   "cell_type": "code",
   "execution_count": 12,
   "metadata": {},
   "outputs": [
    {
     "name": "stdout",
     "output_type": "stream",
     "text": [
      "name: Elon\n",
      "order num: 27\n"
     ]
    }
   ],
   "source": [
    "user(order_num=27, name='Elon')"
   ]
  },
  {
   "cell_type": "code",
   "execution_count": 17,
   "metadata": {},
   "outputs": [],
   "source": [
    "# n number of args\n",
    "def user_v2(name, age, *extra):\n",
    "    print(f\"user name: {name}\")\n",
    "    print(f\"user age: {age}\")\n",
    "\n",
    "    print(type(extra))\n",
    "    print('extra param', extra)"
   ]
  },
  {
   "cell_type": "code",
   "execution_count": 18,
   "metadata": {},
   "outputs": [
    {
     "name": "stdout",
     "output_type": "stream",
     "text": [
      "user name: monir\n",
      "user age: 26\n",
      "<class 'tuple'>\n",
      "extra param ('extra_1', 'extra_2', 5, 3.0, 445)\n"
     ]
    }
   ],
   "source": [
    "user_v2('monir', 26, 'extra_1', 'extra_2', 5, 3.0, 445)"
   ]
  },
  {
   "cell_type": "code",
   "execution_count": 19,
   "metadata": {},
   "outputs": [
    {
     "ename": "TypeError",
     "evalue": "user() missing 1 required positional argument: 'order_num'",
     "output_type": "error",
     "traceback": [
      "\u001b[1;31m---------------------------------------------------------------------------\u001b[0m",
      "\u001b[1;31mTypeError\u001b[0m                                 Traceback (most recent call last)",
      "\u001b[1;32md:\\ML&DL - course\\common\\class 4\\Function.ipynb Cell 24\u001b[0m line \u001b[0;36m1\n\u001b[1;32m----> <a href='vscode-notebook-cell:/d%3A/ML%26DL%20-%20course/common/class%204/Function.ipynb#X61sZmlsZQ%3D%3D?line=0'>1</a>\u001b[0m user(\u001b[39m\"\u001b[39;49m\u001b[39mElon\u001b[39;49m\u001b[39m\"\u001b[39;49m)\n",
      "\u001b[1;31mTypeError\u001b[0m: user() missing 1 required positional argument: 'order_num'"
     ]
    }
   ],
   "source": [
    "user(\"Elon\")"
   ]
  },
  {
   "cell_type": "code",
   "execution_count": 24,
   "metadata": {},
   "outputs": [],
   "source": [
    "# defalut value for arg\n",
    "def my_country(country='Bangladesh'):\n",
    "    print(\"I am from \" + country)"
   ]
  },
  {
   "cell_type": "code",
   "execution_count": 27,
   "metadata": {},
   "outputs": [
    {
     "name": "stdout",
     "output_type": "stream",
     "text": [
      "I am from Bangladesh\n"
     ]
    }
   ],
   "source": [
    "my_country()\n",
    "# print(re)"
   ]
  },
  {
   "cell_type": "code",
   "execution_count": 28,
   "metadata": {},
   "outputs": [
    {
     "name": "stdout",
     "output_type": "stream",
     "text": [
      "I am from Nepal\n"
     ]
    }
   ],
   "source": [
    "my_country('Nepal')"
   ]
  },
  {
   "cell_type": "code",
   "execution_count": 29,
   "metadata": {},
   "outputs": [],
   "source": [
    "# return\n",
    "def calculate_sum(val1, val2):\n",
    "    '''_summary_\n",
    "\n",
    "    Parameters\n",
    "    ----------\n",
    "    val1 : int/float\n",
    "        _description_\n",
    "    val2 : _type_\n",
    "        _description_\n",
    "\n",
    "    Returns\n",
    "    -------\n",
    "    _type_\n",
    "        _description_\n",
    "    '''\n",
    "    result = val1 + val2\n",
    "    return result"
   ]
  },
  {
   "cell_type": "code",
   "execution_count": 30,
   "metadata": {},
   "outputs": [
    {
     "data": {
      "text/plain": [
       "7"
      ]
     },
     "execution_count": 30,
     "metadata": {},
     "output_type": "execute_result"
    }
   ],
   "source": [
    "res = calculate_sum(3, 4)\n",
    "res"
   ]
  },
  {
   "cell_type": "code",
   "execution_count": 31,
   "metadata": {},
   "outputs": [],
   "source": [
    "def calculate_sum(val1, val2):\n",
    "    '''\n",
    "    Calculate sum of val1 and val2.\n",
    "\n",
    "    Parameters\n",
    "    ----------\n",
    "    val1 : int/float\n",
    "        First value\n",
    "    val2 : int/float\n",
    "        Second value\n",
    "\n",
    "    Returns\n",
    "    -------\n",
    "    int/float\n",
    "        sum of val1 and val2\n",
    "    '''\n",
    "    result = val1 + val2\n",
    "    return result"
   ]
  },
  {
   "cell_type": "code",
   "execution_count": 32,
   "metadata": {},
   "outputs": [
    {
     "data": {
      "text/plain": [
       "4.1"
      ]
     },
     "execution_count": 32,
     "metadata": {},
     "output_type": "execute_result"
    }
   ],
   "source": [
    "calculate_sum(1.1, 3)"
   ]
  },
  {
   "cell_type": "code",
   "execution_count": 33,
   "metadata": {},
   "outputs": [
    {
     "data": {
      "text/plain": [
       "4.8"
      ]
     },
     "execution_count": 33,
     "metadata": {},
     "output_type": "execute_result"
    }
   ],
   "source": [
    "calculate_sum(1.4, 3.4)"
   ]
  },
  {
   "cell_type": "code",
   "execution_count": 35,
   "metadata": {},
   "outputs": [
    {
     "name": "stdout",
     "output_type": "stream",
     "text": [
      "Help on function calculate_sum in module __main__:\n",
      "\n",
      "calculate_sum(val1, val2)\n",
      "    Calculate sum of val1 and val2.\n",
      "    \n",
      "    Parameters\n",
      "    ----------\n",
      "    val1 : int/float\n",
      "        First value\n",
      "    val2 : int/float\n",
      "        Second value\n",
      "    \n",
      "    Returns\n",
      "    -------\n",
      "    int/float\n",
      "        sum of val1 and val2\n",
      "\n"
     ]
    }
   ],
   "source": [
    "# use of help function\n",
    "help(calculate_sum)"
   ]
  },
  {
   "attachments": {},
   "cell_type": "markdown",
   "metadata": {},
   "source": [
    "> # Task\n",
    "Write a funtion to check even or odd. There will be one parameter (`int`)."
   ]
  },
  {
   "cell_type": "code",
   "execution_count": 37,
   "metadata": {},
   "outputs": [
    {
     "data": {
      "text/plain": [
       "4"
      ]
     },
     "execution_count": 37,
     "metadata": {},
     "output_type": "execute_result"
    }
   ],
   "source": [
    "def sqr(value):\n",
    "    return value**2\n",
    "\n",
    "sqr(2)"
   ]
  },
  {
   "attachments": {},
   "cell_type": "markdown",
   "metadata": {},
   "source": [
    "# Lambda function\n",
    "#### A lambda function is a small anonymous function.\n",
    "\n",
    "A lambda function can take any number of arguments, but can only have one expression."
   ]
  },
  {
   "cell_type": "code",
   "execution_count": 38,
   "metadata": {},
   "outputs": [],
   "source": [
    "# Add 10 to argument a, and return the result\n",
    "sqr = lambda value : value**2"
   ]
  },
  {
   "cell_type": "code",
   "execution_count": 39,
   "metadata": {},
   "outputs": [
    {
     "data": {
      "text/plain": [
       "4"
      ]
     },
     "execution_count": 39,
     "metadata": {},
     "output_type": "execute_result"
    }
   ],
   "source": [
    "sqr(2)"
   ]
  },
  {
   "cell_type": "code",
   "execution_count": 40,
   "metadata": {},
   "outputs": [],
   "source": [
    "calculate_sum = lambda val1, val2 : val1 + val2"
   ]
  },
  {
   "cell_type": "code",
   "execution_count": 41,
   "metadata": {},
   "outputs": [
    {
     "data": {
      "text/plain": [
       "7"
      ]
     },
     "execution_count": 41,
     "metadata": {},
     "output_type": "execute_result"
    }
   ],
   "source": [
    "calculate_sum(3, 4)"
   ]
  },
  {
   "attachments": {},
   "cell_type": "markdown",
   "metadata": {},
   "source": [
    "## Global vs. Local variables\n",
    "All variables in a program may not be accessible at all locations in that program. This depends on where you have declared a variable.\n",
    "The scope of a variable determines the portion of the program where you can access a particular identifier. There are two basic scopes of variables in Python:\n",
    "\n",
    "- Global variables\n",
    "- Local variables\n"
   ]
  },
  {
   "cell_type": "code",
   "execution_count": 45,
   "metadata": {},
   "outputs": [
    {
     "name": "stdout",
     "output_type": "stream",
     "text": [
      "Inside the function local total :  21\n",
      "Outside the function global total :  0\n"
     ]
    }
   ],
   "source": [
    "# This is global variable\n",
    "total = 0\n",
    "\n",
    "def sum(arg1, arg2):\n",
    "    \"Add both the parameters\"\n",
    "    total = arg1 + arg2\n",
    "    print(\"Inside the function local total : \", total)\n",
    "\n",
    "# Now you can call sum function\n",
    "sum(1, 20)\n",
    "print(\"Outside the function global total : \", total)"
   ]
  },
  {
   "attachments": {},
   "cell_type": "markdown",
   "metadata": {},
   "source": [
    "# Assignment #2 \n",
    "\n",
    "1. Write a function that will return multipication of two numbers (with docstring)\n",
    "2. Write a function that will check if a number is palindrome or not (with docstring) "
   ]
  },
  {
   "cell_type": "code",
   "execution_count": null,
   "metadata": {},
   "outputs": [],
   "source": []
  }
 ],
 "metadata": {
  "kernelspec": {
   "display_name": "Python 3 (ipykernel)",
   "language": "python",
   "name": "python3"
  },
  "language_info": {
   "codemirror_mode": {
    "name": "ipython",
    "version": 3
   },
   "file_extension": ".py",
   "mimetype": "text/x-python",
   "name": "python",
   "nbconvert_exporter": "python",
   "pygments_lexer": "ipython3",
   "version": "3.8.6"
  }
 },
 "nbformat": 4,
 "nbformat_minor": 4
}
