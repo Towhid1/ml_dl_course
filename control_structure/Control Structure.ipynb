{
 "cells": [
  {
   "attachments": {},
   "cell_type": "markdown",
   "metadata": {},
   "source": [
    "\n",
    "There are two basic aspects of computer programming: \n",
    "\n",
    "- Data  \n",
    "- Instructions "
   ]
  },
  {
   "cell_type": "markdown",
   "metadata": {},
   "source": [
    "To work with instructions, you need to understand control structures and statements. \n",
    "Flow of control through any given program is implemented with three basic types of control structures: \n",
    "- Sequential\n",
    "- Selection\n",
    "- Repetition/ Iteration\n",
    "\n",
    "    <img src=\"img/control.png\">\n",
    "\n",
    "# Sequential\n",
    "Sequential statements are a set of statements whose execution process happens in a sequence. \n",
    "\n",
    "Imagine you're a chef making a delicious sandwich. To make it step by step, you'll use Python's sequential control structures."
   ]
  },
  {
   "cell_type": "code",
   "execution_count": 1,
   "metadata": {},
   "outputs": [
    {
     "name": "stdout",
     "output_type": "stream",
     "text": [
      "Step 1: Gather your ingredients.\n",
      "Step 2: Assemble your sandwich.\n",
      "Place lettuce leaves on one slice of 2 slices of bread.\n",
      "Add 1 tomato slices on top of the lettuce.\n",
      "Put 2 slices of cheese on top of the tomato slices.\n",
      "Layer 3 slices of ham on top of the cheese.\n",
      "Spread mayonnaise on the other slice of 2 slices of bread.\n",
      "Sprinkle salt and pepper to taste.\n",
      "Place the mayo-covered bread slice on top to complete the sandwich.\n",
      "Step 3: Enjoy your delicious sandwich!\n"
     ]
    }
   ],
   "source": [
    "# Step 1: Gather ingredients\n",
    "print(\"Step 1: Gather your ingredients.\")\n",
    "bread = \"2 slices of bread\"\n",
    "lettuce = \"lettuce leaves\"\n",
    "tomato = \"1 tomato\"\n",
    "cheese = \"2 slices of cheese\"\n",
    "ham = \"3 slices of ham\"\n",
    "mayo = \"mayonnaise\"\n",
    "salt_and_pepper = \"salt and pepper\"\n",
    "\n",
    "# Step 2: Assemble the sandwich\n",
    "print(\"Step 2: Assemble your sandwich.\")\n",
    "print(f\"Place {lettuce} on one slice of {bread}.\")\n",
    "print(f\"Add {tomato} slices on top of the lettuce.\")\n",
    "print(f\"Put {cheese} on top of the tomato slices.\")\n",
    "print(f\"Layer {ham} on top of the cheese.\")\n",
    "print(f\"Spread {mayo} on the other slice of {bread}.\")\n",
    "print(f\"Sprinkle {salt_and_pepper} to taste.\")\n",
    "print(\"Place the mayo-covered bread slice on top to complete the sandwich.\")\n",
    "\n",
    "# Step 3: Enjoy your sandwich\n",
    "print(\"Step 3: Enjoy your delicious sandwich!\")\n"
   ]
  },
  {
   "cell_type": "markdown",
   "metadata": {},
   "source": [
    "# Selection\n",
    "\n"
   ]
  },
  {
   "cell_type": "markdown",
   "metadata": {},
   "source": [
    "### Comparison operators(==, !=, >, <, >=, <=)"
   ]
  },
  {
   "cell_type": "code",
   "execution_count": 2,
   "metadata": {},
   "outputs": [
    {
     "name": "stdout",
     "output_type": "stream",
     "text": [
      "x > y is False\n",
      "x < y is True\n",
      "x == y is False\n",
      "x != y is True\n",
      "x >= y is False\n",
      "x <= y is True\n"
     ]
    }
   ],
   "source": [
    "x = 10\n",
    "y = 12\n",
    "\n",
    "# Output: x > y is False\n",
    "print('x > y is', x > y)\n",
    "\n",
    "# Output: x < y is True\n",
    "print('x < y is', x < y)\n",
    "\n",
    "# Output: x == y is False\n",
    "print('x == y is', x == y)\n",
    "\n",
    "# Output: x != y is True\n",
    "print('x != y is', x != y)\n",
    "\n",
    "# Output: x >= y is False\n",
    "print('x >= y is', x >= y)\n",
    "\n",
    "# Output: x <= y is True\n",
    "print('x <= y is', x <= y)"
   ]
  },
  {
   "cell_type": "code",
   "execution_count": 4,
   "metadata": {},
   "outputs": [
    {
     "name": "stdout",
     "output_type": "stream",
     "text": [
      "x is None or not:  False\n"
     ]
    }
   ],
   "source": [
    "# Output: x is None or not\n",
    "x = None\n",
    "print('x is None or not: ' , x is not None)"
   ]
  },
  {
   "cell_type": "code",
   "execution_count": 6,
   "metadata": {},
   "outputs": [
    {
     "name": "stdout",
     "output_type": "stream",
     "text": [
      "a is greater than b\n",
      "a --> 33\n",
      "b --> 32\n",
      "done!\n"
     ]
    }
   ],
   "source": [
    "# Selection example\n",
    "a = 33\n",
    "b = 32\n",
    "\n",
    "if b > a:\n",
    "    print(\"b is greater than a\")\n",
    "    print(f\"a --> {a}\")\n",
    "    print(f\"b --> {b}\")\n",
    "elif b < a:\n",
    "    print(\"a is greater than b\")\n",
    "    print(f\"a --> {a}\")\n",
    "    print(f\"b --> {b}\")\n",
    "else:\n",
    "    print(\"a and b equal\")\n",
    "    print(f\"a -> {a}\")\n",
    "    print(f\"b -> {b}\")\n",
    "\n",
    "print(\"done!\")"
   ]
  },
  {
   "cell_type": "markdown",
   "metadata": {},
   "source": [
    "### Logical operators (and , or, not)"
   ]
  },
  {
   "cell_type": "code",
   "execution_count": 7,
   "metadata": {},
   "outputs": [
    {
     "name": "stdout",
     "output_type": "stream",
     "text": [
      "x and y is False\n",
      "x or y is True\n",
      "not x is True\n"
     ]
    }
   ],
   "source": [
    "x = True\n",
    "y = False\n",
    "\n",
    "print('x and y is', x and y)\n",
    "print('x or y is', x or y)\n",
    "print('not x is', not y)"
   ]
  },
  {
   "cell_type": "code",
   "execution_count": 8,
   "metadata": {},
   "outputs": [
    {
     "name": "stdout",
     "output_type": "stream",
     "text": [
      "Not condition is True\n",
      "done!\n"
     ]
    }
   ],
   "source": [
    "# selection example with logical operators\n",
    "python_is_cool = False\n",
    "java_is_cool = False\n",
    "\n",
    "if python_is_cool or java_is_cool:\n",
    "    print(\"Or logic True\")\n",
    "elif python_is_cool and java_is_cool:\n",
    "    print('And logic output True')\n",
    "elif not python_is_cool:\n",
    "    print('Not condition is True')\n",
    "\n",
    "print('done!')"
   ]
  },
  {
   "cell_type": "code",
   "execution_count": 10,
   "metadata": {},
   "outputs": [
    {
     "name": "stdout",
     "output_type": "stream",
     "text": [
      "Or logic True\n",
      "And logic output True\n",
      "done!\n"
     ]
    }
   ],
   "source": [
    "# selection example with logical operators\n",
    "python_is_cool = True\n",
    "java_is_cool = True\n",
    "\n",
    "if python_is_cool or java_is_cool:\n",
    "    print(\"Or logic True\")\n",
    "\n",
    "if python_is_cool and java_is_cool:\n",
    "    print('And logic output True')\n",
    "\n",
    "if not java_is_cool:\n",
    "    print('Not condition is True')\n",
    "\n",
    "print('done!')"
   ]
  },
  {
   "cell_type": "code",
   "execution_count": 12,
   "metadata": {},
   "outputs": [
    {
     "name": "stdout",
     "output_type": "stream",
     "text": [
      "b is not greater than a\n",
      "done!\n"
     ]
    }
   ],
   "source": [
    "# added to Python in version 2.5\n",
    "a = 5\n",
    "b = 4\n",
    "\n",
    "# single line if - else\n",
    "print(\"b is greater than a\") if b > a else print(\"b is not greater than a\")\n",
    "\n",
    "print('done!')"
   ]
  },
  {
   "cell_type": "code",
   "execution_count": 13,
   "metadata": {},
   "outputs": [
    {
     "name": "stdout",
     "output_type": "stream",
     "text": [
      "A is positive\n",
      "5\n"
     ]
    }
   ],
   "source": [
    "import random\n",
    "random_number = random.randint(-5, 5)\n",
    "\n",
    "if random_number == 0:\n",
    "    print(\"A is zero\")\n",
    "elif random_number < 0:\n",
    "    print(\"A is negative\")\n",
    "elif random_number > 0:\n",
    "    print(\"A is positive\")\n",
    "\n",
    "print(random_number)"
   ]
  },
  {
   "cell_type": "markdown",
   "metadata": {},
   "source": [
    "# Repetition"
   ]
  },
  {
   "cell_type": "code",
   "execution_count": 14,
   "metadata": {},
   "outputs": [
    {
     "name": "stdout",
     "output_type": "stream",
     "text": [
      "1\n",
      "4\n",
      "9\n",
      "16\n",
      "25\n",
      "36\n",
      "loop end !\n"
     ]
    }
   ],
   "source": [
    "my_list = [1, 2, 3, 4, 5, 6]\n",
    "\n",
    "for item in my_list:\n",
    "    item = item ** 2\n",
    "    print(item)\n",
    "\n",
    "print('loop end !')"
   ]
  },
  {
   "cell_type": "code",
   "execution_count": 15,
   "metadata": {},
   "outputs": [
    {
     "name": "stdout",
     "output_type": "stream",
     "text": [
      "1\n",
      "2\n",
      "3\n",
      "done\n"
     ]
    }
   ],
   "source": [
    "itr = 1\n",
    "\n",
    "while itr<4:\n",
    "    print(itr)\n",
    "    itr += 1\n",
    "    # itr = itr + 1\n",
    "\n",
    "print(\"done\")"
   ]
  },
  {
   "cell_type": "code",
   "execution_count": 18,
   "metadata": {},
   "outputs": [
    {
     "name": "stdout",
     "output_type": "stream",
     "text": [
      "1\n",
      "out of loop\n"
     ]
    }
   ],
   "source": [
    "i = 0\n",
    "\n",
    "while True:\n",
    "    i += 1\n",
    "    print(i)\n",
    "    if i == 5:\n",
    "        break\n",
    "\n",
    "print(\"out of loop\")"
   ]
  },
  {
   "cell_type": "code",
   "execution_count": 19,
   "metadata": {},
   "outputs": [
    {
     "name": "stdout",
     "output_type": "stream",
     "text": [
      "1\n",
      "2\n",
      "3\n",
      "4\n",
      "5\n",
      "done\n"
     ]
    }
   ],
   "source": [
    "# break example\n",
    "my_list = [1, 2, 3, 4, 5, 6, 7]\n",
    "\n",
    "for item in my_list:\n",
    "    print(item)\n",
    "    if item == 5:\n",
    "        break\n",
    "\n",
    "print(\"done\")"
   ]
  },
  {
   "cell_type": "code",
   "execution_count": 20,
   "metadata": {},
   "outputs": [
    {
     "name": "stdout",
     "output_type": "stream",
     "text": [
      "1\n",
      "2 is even\n",
      "3\n",
      "4 is even\n",
      "5\n",
      "6 is even\n",
      "done\n"
     ]
    }
   ],
   "source": [
    "# continue example\n",
    "my_list = [1, 2, 3, 4, 5, 6]\n",
    "\n",
    "for item in my_list:\n",
    "    if item % 2 == 0:\n",
    "        print(f'{item} is even')\n",
    "        continue\n",
    "    print(item)\n",
    "\n",
    "print(\"done\")"
   ]
  },
  {
   "cell_type": "code",
   "execution_count": 21,
   "metadata": {},
   "outputs": [
    {
     "name": "stdout",
     "output_type": "stream",
     "text": [
      "index 0 value 1\n",
      "index 1 value 2\n",
      "index 2 value 3\n",
      "index 3 value 4\n",
      "index 4 value 5\n"
     ]
    }
   ],
   "source": [
    "my_list = [1, 2, 3, 4, 5]\n",
    "\n",
    "for idx, val in enumerate(my_list):\n",
    "    print(f'index {idx} value {val}')"
   ]
  },
  {
   "cell_type": "code",
   "execution_count": 28,
   "metadata": {},
   "outputs": [
    {
     "data": {
      "text/plain": [
       "[0, 1, 2, 3, 4, 5, 6, 7, 8, 9, 10]"
      ]
     },
     "execution_count": 28,
     "metadata": {},
     "output_type": "execute_result"
    }
   ],
   "source": [
    "list(range(0, 11, 1))"
   ]
  },
  {
   "cell_type": "code",
   "execution_count": 29,
   "metadata": {},
   "outputs": [
    {
     "name": "stdout",
     "output_type": "stream",
     "text": [
      "0\n",
      "1\n",
      "2\n",
      "3\n",
      "4\n"
     ]
    }
   ],
   "source": [
    "for number in range(0, 5):\n",
    "    print(number)"
   ]
  },
  {
   "cell_type": "code",
   "execution_count": 30,
   "metadata": {},
   "outputs": [
    {
     "name": "stdout",
     "output_type": "stream",
     "text": [
      "2\n",
      "7\n"
     ]
    }
   ],
   "source": [
    "for number in range(2, 11, 5):\n",
    "    print(number)"
   ]
  },
  {
   "attachments": {},
   "cell_type": "markdown",
   "metadata": {},
   "source": [
    "> # Task (4 mins)\n",
    "print pattern like this :\n",
    "\n",
    "```bash\n",
    "*\n",
    "**\n",
    "***\n",
    "****\n",
    "```"
   ]
  },
  {
   "cell_type": "code",
   "execution_count": 33,
   "metadata": {},
   "outputs": [
    {
     "name": "stdout",
     "output_type": "stream",
     "text": [
      "*\n",
      "**\n",
      "***\n",
      "****\n"
     ]
    }
   ],
   "source": [
    "# here your code\n",
    "for star_count in range(1, 5):\n",
    "    print('*' * star_count)"
   ]
  },
  {
   "cell_type": "markdown",
   "metadata": {},
   "source": [
    "# Assignment #1 \n",
    "- Print a pattern like this :\n",
    "\n",
    "```\n",
    "   1\n",
    "   2 3\n",
    "   4 5 6\n",
    "   7 8 9 10\n",
    "```\n",
    "- Given an List of integers nums and an integer target, return indices of the two numbers such that they add up to target.\n",
    "\n",
    "You may assume that each input would have exactly one solution, and you may not use the same element twice.\n"
   ]
  },
  {
   "cell_type": "code",
   "execution_count": null,
   "metadata": {},
   "outputs": [],
   "source": [
    "nums = [1, -4, 3, 5, 2]\n",
    "target = 3\n",
    "\n"
   ]
  }
 ],
 "metadata": {
  "kernelspec": {
   "display_name": "Python 3 (ipykernel)",
   "language": "python",
   "name": "python3"
  },
  "language_info": {
   "codemirror_mode": {
    "name": "ipython",
    "version": 3
   },
   "file_extension": ".py",
   "mimetype": "text/x-python",
   "name": "python",
   "nbconvert_exporter": "python",
   "pygments_lexer": "ipython3",
   "version": "3.8.6"
  }
 },
 "nbformat": 4,
 "nbformat_minor": 4
}
